{
 "cells": [
  {
   "cell_type": "markdown",
   "id": "a6dfe8b1-f880-40d7-acd9-50c5fdc526af",
   "metadata": {},
   "source": [
    "# Ans1"
   ]
  },
  {
   "cell_type": "markdown",
   "id": "5a62f104-2120-4a6e-a118-b8c59a3cac38",
   "metadata": {},
   "source": [
    "Overfiting means model learns training data too well including noise and outliers but leading to poor performance on new unseen data."
   ]
  },
  {
   "cell_type": "markdown",
   "id": "9c950025-3257-4a2f-a299-dd01c804f963",
   "metadata": {},
   "source": [
    "cross-validation,regularization reduce the model complexity to handle the overfitting problem."
   ]
  },
  {
   "cell_type": "markdown",
   "id": "ef26e5a9-f505-43d6-a3e6-73546d11b564",
   "metadata": {},
   "source": [
    "underfitting is like  having a too simple model that fails to capture the complexities of the data.Leading to poor performace both training and testing datasets."
   ]
  },
  {
   "cell_type": "markdown",
   "id": "fa02aa85-cae2-4b42-a98a-f3f8d88acd6e",
   "metadata": {},
   "source": [
    "# Ans2-"
   ]
  },
  {
   "cell_type": "markdown",
   "id": "b6dc8acb-b26c-4549-a0c3-de5ad001fcb8",
   "metadata": {},
   "source": [
    "To reduce overfitting use techniques  such as cross-validation, regularization ,and limiting the complexity of model or reducing to complexity of the model like reducing the number of feature in the datasets."
   ]
  },
  {
   "cell_type": "markdown",
   "id": "ab0bcb96-c22f-43f8-ac51-15766d0dacab",
   "metadata": {},
   "source": [
    "# Ans3-"
   ]
  },
  {
   "cell_type": "markdown",
   "id": "fdea9efe-2d71-4092-9ee0-669bd0522308",
   "metadata": {},
   "source": [
    "Underfitting means when a model is too simple to capture the underlying patterns in the training data resulting the poor performance on the both training and test data."
   ]
  },
  {
   "cell_type": "markdown",
   "id": "38450e3a-1d98-4f04-bea4-06a0e71b7b9d",
   "metadata": {},
   "source": [
    "Scenarios where under fitting can occurs:"
   ]
  },
  {
   "cell_type": "markdown",
   "id": "9c616c20-f136-4af7-a936-e8ce3829a8ac",
   "metadata": {},
   "source": [
    "1-Insufficient model complexity means model is too basic not understand the complex data.\n",
    "\n",
    "2-limited features means essentials features are not included in the model.\n",
    "\n",
    "3- inadequate data size means amount of the training data is too small."
   ]
  },
  {
   "cell_type": "markdown",
   "id": "ce2a9fdc-b144-4880-b484-9be61cfd96f9",
   "metadata": {},
   "source": [
    "# Ans4-"
   ]
  },
  {
   "cell_type": "markdown",
   "id": "f6565150-a216-49e8-bcbd-4f6339539eb4",
   "metadata": {},
   "source": [
    "Bias varience tradeoff means balance between two source of error that affect a model performance.bias and variance"
   ]
  },
  {
   "cell_type": "markdown",
   "id": "c270588d-145b-43f0-9d28-e8955a7bb811",
   "metadata": {},
   "source": [
    "High bias can lead to underfittiing means it fails to capture a underlying patterns."
   ]
  },
  {
   "cell_type": "markdown",
   "id": "00c2b30e-2409-40e5-90fc-924cb7ebecda",
   "metadata": {},
   "source": [
    "High varience can lead to overfitting means where the model performance well on training data but poorly on new unseen data."
   ]
  },
  {
   "cell_type": "markdown",
   "id": "9d187cef-eeba-45ff-90d1-3b9f9706e625",
   "metadata": {},
   "source": [
    "The goal is to find the right balance that minimizes the total error on both training and test data."
   ]
  },
  {
   "cell_type": "markdown",
   "id": "231d83cc-e87a-40d6-b735-99861606862d",
   "metadata": {},
   "source": [
    "Low Bias, High Variance: The model is complex and fits the training data well, but it may not generalize to new data.\n",
    "\n",
    "High Bias, Low Variance: The model is too simple and may not capture the underlying patterns in the training data, resulting in poor performance on both training and test data."
   ]
  },
  {
   "cell_type": "markdown",
   "id": "aa3170f3-43f9-49d5-b685-5aad708628a6",
   "metadata": {},
   "source": [
    "The challenge is to find a model complexity that achieves a good tradeoff, optimizing overall performance. Techniques like cross-validation, regularization, and model selection contribute to managing the bias-variance tradeoff.\n",
    "\n",
    "\n",
    "\n",
    "\n"
   ]
  },
  {
   "cell_type": "markdown",
   "id": "4ec0b08b-df18-4cda-a161-32f26e9af44e",
   "metadata": {},
   "source": [
    "# Ans5-"
   ]
  },
  {
   "cell_type": "markdown",
   "id": "c10e0ae0-fdfb-4cd6-98b1-a64e7ec24691",
   "metadata": {},
   "source": [
    "Detecting Overfitting:\n",
    "\n",
    "Performance Metrics -Compare the model's performance on training and test/validation "
   ]
  },
  {
   "cell_type": "markdown",
   "id": "96bced93-46f8-4fbf-b74b-54b84c10eea6",
   "metadata": {},
   "source": [
    "Cross-Validation:\n",
    "Use cross-validation to evaluate the model on multiple subsets of the data. Overfit models tend to perform exceptionally well on one subset but poorly on others."
   ]
  },
  {
   "cell_type": "markdown",
   "id": "cb0aaf6e-c4e0-4be6-9cfd-68e3cb84879f",
   "metadata": {},
   "source": [
    "Regularization Techniques is prevent the overfitting."
   ]
  },
  {
   "cell_type": "markdown",
   "id": "980f5570-46d6-4247-af6e-b201bc8fc359",
   "metadata": {},
   "source": [
    "Detecting Underfitting:\n",
    "\n",
    "Performance Metrics:\n",
    "Poor performance on both training and validation sets may indicate underfitting. Check for consistently low accuracy or high error rates."
   ]
  },
  {
   "cell_type": "markdown",
   "id": "fe8e18c8-ee1e-4fff-9bce-9ff3df1eb357",
   "metadata": {},
   "source": [
    "Model Complexity Evaluate the complexity of the model. If it's too basic and struggles to represent the underlying patterns.then underfitting."
   ]
  },
  {
   "cell_type": "markdown",
   "id": "49dde19c-392e-43da-9607-4aad74c4f796",
   "metadata": {},
   "source": [
    "Feature Importance:\n",
    "Analyze the importance of features. If important features are not considered, it may lead to underfitting"
   ]
  },
  {
   "cell_type": "markdown",
   "id": "b2e59574-c738-4a07-b5c9-bcaf5b1e6d2f",
   "metadata": {},
   "source": [
    "# Ans6-"
   ]
  },
  {
   "cell_type": "markdown",
   "id": "21eeec4e-aa77-41b0-9c90-2476864f1508",
   "metadata": {},
   "source": [
    "High bias means model fails to  capture the underlying pattern in the data. for example a linear regression model applied to a highly non linear datasets would likely exhibit high bias.means  model is underfit."
   ]
  },
  {
   "cell_type": "markdown",
   "id": "6368581d-d2de-45c8-9a75-ee0ddcaf9ba4",
   "metadata": {},
   "source": [
    "High varience means model train well training data but not well new unseen data.for example a high degree polynomial regression model applied to a dataset with limited samples may exhibit high varience means my model is overfit."
   ]
  },
  {
   "cell_type": "markdown",
   "id": "2a187311-0ab4-40d4-adf6-8aeb09d2e430",
   "metadata": {},
   "source": [
    "Optimal Model:\n",
    "An optimal model has low bias and low variance, achieving good performance on both training and test datasets."
   ]
  },
  {
   "cell_type": "markdown",
   "id": "87b27512-e8d0-44ae-9dfb-9ef62165a3d3",
   "metadata": {},
   "source": [
    "but real world not possible"
   ]
  },
  {
   "cell_type": "markdown",
   "id": "3ccdb52a-01ac-4638-93f6-c248457714f2",
   "metadata": {},
   "source": [
    "Performance Comparison:\n",
    "\n",
    "High Bias:\n",
    "\n",
    "Training Performance: Poor.\n",
    "\n",
    "Test Performance: Poor.\n",
    "\n",
    "Issue: Fails to capture the underlying patterns, resulting in underfitting.\n",
    "\n",
    "High Variance:\n",
    "\n",
    "Training Performance: Good.\n",
    "\n",
    "Test Performance: Poor.\n",
    "\n",
    "issues model is train well training data but not well new unseen data means testing data."
   ]
  },
  {
   "cell_type": "markdown",
   "id": "351640b5-fbc4-45a5-aa12-45e7653b1e93",
   "metadata": {},
   "source": [
    "# Ans7-"
   ]
  },
  {
   "cell_type": "markdown",
   "id": "a1ed492b-82ae-45ce-84ae-2d0455d7a949",
   "metadata": {},
   "source": [
    "Regularization in Machine Learning:\n",
    "Regularization is a technique used to prevent overfitting in machine learning models by adding a penalty term to the cost function. "
   ]
  },
  {
   "cell_type": "markdown",
   "id": "b7563813-4904-451c-bfc2-312a18848387",
   "metadata": {},
   "source": [
    "L1 Regularization (Lasso):\n",
    "How it works: Adds the absolute values of the coefficients to the cost function."
   ]
  },
  {
   "cell_type": "markdown",
   "id": "5931d2d9-3b9a-4ad4-9996-5dbbf572bc52",
   "metadata": {},
   "source": [
    "L2 Regularization (Ridge):\n",
    "How it works: Adds the squared values of the coefficients to the cost function"
   ]
  },
  {
   "cell_type": "markdown",
   "id": "fa01ec3c-acd3-44b1-b227-3846395dc979",
   "metadata": {},
   "source": [
    "Elastic Net:\n",
    "Combination of L1 and L2: Combines both L1 and L2 regularization terms in the cost function."
   ]
  },
  {
   "cell_type": "markdown",
   "id": "6d889cdd-cadd-4703-890f-f9756310b890",
   "metadata": {},
   "source": [
    "Dropout:\n",
    "How it works: Randomly \"drops out\" (sets to zero) a fraction of neurons during training."
   ]
  },
  {
   "cell_type": "code",
   "execution_count": null,
   "id": "b2c07146-7a69-4509-a823-6cde2bc7604d",
   "metadata": {},
   "outputs": [],
   "source": []
  }
 ],
 "metadata": {
  "kernelspec": {
   "display_name": "Python 3 (ipykernel)",
   "language": "python",
   "name": "python3"
  },
  "language_info": {
   "codemirror_mode": {
    "name": "ipython",
    "version": 3
   },
   "file_extension": ".py",
   "mimetype": "text/x-python",
   "name": "python",
   "nbconvert_exporter": "python",
   "pygments_lexer": "ipython3",
   "version": "3.10.8"
  }
 },
 "nbformat": 4,
 "nbformat_minor": 5
}
